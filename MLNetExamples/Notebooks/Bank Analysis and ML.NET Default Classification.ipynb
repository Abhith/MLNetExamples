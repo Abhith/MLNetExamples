{
 "cells": [
  {
   "cell_type": "code",
   "execution_count": null,
   "metadata": {},
   "outputs": [
    {
     "data": {
      "text/html": [
       "Attempting to install package Microsoft.ML, version 1.5.0-preview...............................................................done!"
      ]
     },
     "metadata": {},
     "output_type": "display_data"
    },
    {
     "data": {
      "text/html": [
       "Successfully added reference to package Microsoft.ML, version 1.5.0-preview"
      ]
     },
     "metadata": {},
     "output_type": "display_data"
    },
    {
     "data": {
      "text/html": [
       "Attempting to install package Microsoft.Data.Analysis...............done!"
      ]
     },
     "metadata": {},
     "output_type": "display_data"
    },
    {
     "data": {
      "text/html": [
       "Successfully added reference to package Microsoft.Data.Analysis, version 0.2.0"
      ]
     },
     "metadata": {},
     "output_type": "display_data"
    }
   ],
   "source": [
    "#r \"nuget:Microsoft.ML,1.5.0-preview\"\n",
    "#r \"nuget:Microsoft.Data.Analysis\""
   ]
  },
  {
   "cell_type": "code",
   "execution_count": 2,
   "metadata": {},
   "outputs": [],
   "source": [
    "using Microsoft.ML;\n",
    "using Microsoft.ML.Data;\n",
    "using Microsoft.Data.Analysis;"
   ]
  },
  {
   "cell_type": "code",
   "execution_count": 3,
   "metadata": {},
   "outputs": [],
   "source": [
    "using Microsoft.AspNetCore.Html;\n",
    "Formatter<DataFrame>.Register((df, writer) =>\n",
    "{\n",
    "    var headers = new List<IHtmlContent>();\n",
    "    headers.Add(th(i(\"index\")));\n",
    "    headers.AddRange(df.Columns.Select(c => (IHtmlContent) th(c.Name)));\n",
    "    var rows = new List<List<IHtmlContent>>();\n",
    "    var take = 10;\n",
    "    for (var i = 0; i < Math.Min(take, df.Rows.Count); i++)\n",
    "    {\n",
    "        var cells = new List<IHtmlContent>();\n",
    "        cells.Add(td(i));\n",
    "        foreach (var obj in df.Rows[i])\n",
    "        {\n",
    "            cells.Add(td(obj));\n",
    "        }\n",
    "        rows.Add(cells);\n",
    "    }\n",
    "\n",
    "    var t = table(\n",
    "        thead(\n",
    "            headers),\n",
    "        tbody(\n",
    "            rows.Select(\n",
    "                r => tr(r))));\n",
    "\n",
    "    writer.Write(t);\n",
    "}, \"text/html\");"
   ]
  },
  {
   "cell_type": "code",
   "execution_count": 4,
   "metadata": {},
   "outputs": [
    {
     "data": {
      "text/html": [
       "<table><thead><th><i>index</i></th><th>age</th><th>job</th><th>marital</th><th>education</th><th>default</th><th>balance</th><th>housing</th><th>loan</th><th>contact</th><th>day</th><th>month</th><th>duration</th><th>campaign</th><th>pdays</th><th>previous</th><th>poutcome</th><th>y</th></thead><tbody><tr><td>0</td><td>30</td><td>unemployed</td><td>married</td><td>primary</td><td>no</td><td>1787</td><td>no</td><td>no</td><td>cellular</td><td>19</td><td>oct</td><td>79</td><td>1</td><td>-1</td><td>0</td><td>unknown</td><td>no</td></tr><tr><td>1</td><td>33</td><td>services</td><td>married</td><td>secondary</td><td>no</td><td>4789</td><td>yes</td><td>yes</td><td>cellular</td><td>11</td><td>may</td><td>220</td><td>1</td><td>339</td><td>4</td><td>failure</td><td>no</td></tr><tr><td>2</td><td>35</td><td>management</td><td>single</td><td>tertiary</td><td>no</td><td>1350</td><td>yes</td><td>no</td><td>cellular</td><td>16</td><td>apr</td><td>185</td><td>1</td><td>330</td><td>1</td><td>failure</td><td>no</td></tr><tr><td>3</td><td>30</td><td>management</td><td>married</td><td>tertiary</td><td>no</td><td>1476</td><td>yes</td><td>yes</td><td>unknown</td><td>3</td><td>jun</td><td>199</td><td>4</td><td>-1</td><td>0</td><td>unknown</td><td>no</td></tr><tr><td>4</td><td>59</td><td>blue-collar</td><td>married</td><td>secondary</td><td>no</td><td>0</td><td>yes</td><td>no</td><td>unknown</td><td>5</td><td>may</td><td>226</td><td>1</td><td>-1</td><td>0</td><td>unknown</td><td>no</td></tr><tr><td>5</td><td>35</td><td>management</td><td>single</td><td>tertiary</td><td>no</td><td>747</td><td>no</td><td>no</td><td>cellular</td><td>23</td><td>feb</td><td>141</td><td>2</td><td>176</td><td>3</td><td>failure</td><td>no</td></tr><tr><td>6</td><td>36</td><td>self-employed</td><td>married</td><td>tertiary</td><td>no</td><td>307</td><td>yes</td><td>no</td><td>cellular</td><td>14</td><td>may</td><td>341</td><td>1</td><td>330</td><td>2</td><td>other</td><td>no</td></tr><tr><td>7</td><td>39</td><td>technician</td><td>married</td><td>secondary</td><td>no</td><td>147</td><td>yes</td><td>no</td><td>cellular</td><td>6</td><td>may</td><td>151</td><td>2</td><td>-1</td><td>0</td><td>unknown</td><td>no</td></tr><tr><td>8</td><td>41</td><td>entrepreneur</td><td>married</td><td>tertiary</td><td>no</td><td>221</td><td>yes</td><td>no</td><td>unknown</td><td>14</td><td>may</td><td>57</td><td>2</td><td>-1</td><td>0</td><td>unknown</td><td>no</td></tr><tr><td>9</td><td>43</td><td>services</td><td>married</td><td>primary</td><td>no</td><td>-88</td><td>yes</td><td>yes</td><td>cellular</td><td>17</td><td>apr</td><td>313</td><td>1</td><td>147</td><td>2</td><td>failure</td><td>no</td></tr></tbody></table>"
      ]
     },
     "execution_count": 4,
     "metadata": {},
     "output_type": "execute_result"
    }
   ],
   "source": [
    "var data = DataFrame.LoadCsv(\"./bank.csv\", separator: ';');\n",
    "\n",
    "data"
   ]
  },
  {
   "cell_type": "code",
   "execution_count": 5,
   "metadata": {},
   "outputs": [
    {
     "data": {
      "text/html": [
       "<table><thead><th><i>index</i></th><th>Info</th><th>age</th><th>job</th><th>marital</th><th>education</th><th>default</th><th>balance</th><th>housing</th><th>loan</th><th>contact</th><th>day</th><th>month</th><th>duration</th><th>campaign</th><th>pdays</th><th>previous</th><th>poutcome</th><th>y</th></thead><tbody><tr><td>0</td><td>DataType</td><td>System.Single</td><td>System.String</td><td>System.String</td><td>System.String</td><td>System.String</td><td>System.Single</td><td>System.String</td><td>System.String</td><td>System.String</td><td>System.Single</td><td>System.String</td><td>System.Single</td><td>System.Single</td><td>System.Single</td><td>System.Single</td><td>System.String</td><td>System.String</td></tr><tr><td>1</td><td>Length (excluding null values)</td><td>4521</td><td>4521</td><td>4521</td><td>4521</td><td>4521</td><td>4521</td><td>4521</td><td>4521</td><td>4521</td><td>4521</td><td>4521</td><td>4521</td><td>4521</td><td>4521</td><td>4521</td><td>4521</td><td>4521</td></tr></tbody></table>"
      ]
     },
     "execution_count": 5,
     "metadata": {},
     "output_type": "execute_result"
    }
   ],
   "source": [
    "data.Info()"
   ]
  },
  {
   "cell_type": "code",
   "execution_count": 6,
   "metadata": {},
   "outputs": [
    {
     "data": {
      "text/html": [
       "<table><thead><th><i>index</i></th><th>Description</th><th>age</th><th>balance</th><th>day</th><th>duration</th><th>campaign</th><th>pdays</th><th>previous</th></thead><tbody><tr><td>0</td><td>Length (excluding null values)</td><td>4521</td><td>4521</td><td>4521</td><td>4521</td><td>4521</td><td>4521</td><td>4521</td></tr><tr><td>1</td><td>Max</td><td>87</td><td>71188</td><td>31</td><td>3025</td><td>50</td><td>871</td><td>25</td></tr><tr><td>2</td><td>Min</td><td>19</td><td>-3313</td><td>1</td><td>4</td><td>1</td><td>-1</td><td>0</td></tr><tr><td>3</td><td>Mean</td><td>41.170094</td><td>1422.6578</td><td>15.915284</td><td>263.9613</td><td>2.7936296</td><td>39.766644</td><td>0.54257905</td></tr></tbody></table>"
      ]
     },
     "execution_count": 6,
     "metadata": {},
     "output_type": "execute_result"
    }
   ],
   "source": [
    "data.Description()"
   ]
  },
  {
   "cell_type": "code",
   "execution_count": 7,
   "metadata": {},
   "outputs": [
    {
     "data": {
      "text/html": [
       "<table><thead><tr><th><i>index</i></th><th>NullCount</th><th>Length</th><th>Name</th><th>DataType</th></tr></thead><tbody><tr><td>0</td><td>0</td><td>4521</td><td>age</td><td>Single</td></tr><tr><td>1</td><td>0</td><td>4521</td><td>job</td><td>String</td></tr><tr><td>2</td><td>0</td><td>4521</td><td>marital</td><td>String</td></tr><tr><td>3</td><td>0</td><td>4521</td><td>education</td><td>String</td></tr><tr><td>4</td><td>0</td><td>4521</td><td>default</td><td>String</td></tr><tr><td>5</td><td>0</td><td>4521</td><td>balance</td><td>Single</td></tr><tr><td>6</td><td>0</td><td>4521</td><td>housing</td><td>String</td></tr><tr><td>7</td><td>0</td><td>4521</td><td>loan</td><td>String</td></tr><tr><td>8</td><td>0</td><td>4521</td><td>contact</td><td>String</td></tr><tr><td>9</td><td>0</td><td>4521</td><td>day</td><td>Single</td></tr><tr><td>10</td><td>0</td><td>4521</td><td>month</td><td>String</td></tr><tr><td>11</td><td>0</td><td>4521</td><td>duration</td><td>Single</td></tr><tr><td>12</td><td>0</td><td>4521</td><td>campaign</td><td>Single</td></tr><tr><td>13</td><td>0</td><td>4521</td><td>pdays</td><td>Single</td></tr><tr><td>14</td><td>0</td><td>4521</td><td>previous</td><td>Single</td></tr><tr><td>15</td><td>0</td><td>4521</td><td>poutcome</td><td>String</td></tr><tr><td>16</td><td>0</td><td>4521</td><td>y</td><td>String</td></tr></tbody></table>"
      ]
     },
     "execution_count": 7,
     "metadata": {},
     "output_type": "execute_result"
    }
   ],
   "source": [
    "data.Columns"
   ]
  },
  {
   "cell_type": "code",
   "execution_count": 8,
   "metadata": {},
   "outputs": [
    {
     "data": {
      "text/html": [
       "<table><thead><th><i>index</i></th><th>job</th><th>age</th><th>marital</th><th>education</th><th>default</th><th>balance</th><th>housing</th><th>loan</th><th>contact</th><th>day</th><th>month</th><th>duration</th><th>campaign</th><th>pdays</th><th>previous</th><th>poutcome</th><th>y</th></thead><tbody><tr><td>0</td><td>unknown</td><td>38</td><td>38</td><td>38</td><td>38</td><td>38</td><td>38</td><td>38</td><td>38</td><td>38</td><td>38</td><td>38</td><td>38</td><td>38</td><td>38</td><td>38</td><td>38</td></tr><tr><td>1</td><td>student</td><td>84</td><td>84</td><td>84</td><td>84</td><td>84</td><td>84</td><td>84</td><td>84</td><td>84</td><td>84</td><td>84</td><td>84</td><td>84</td><td>84</td><td>84</td><td>84</td></tr><tr><td>2</td><td>housemaid</td><td>112</td><td>112</td><td>112</td><td>112</td><td>112</td><td>112</td><td>112</td><td>112</td><td>112</td><td>112</td><td>112</td><td>112</td><td>112</td><td>112</td><td>112</td><td>112</td></tr><tr><td>3</td><td>unemployed</td><td>128</td><td>128</td><td>128</td><td>128</td><td>128</td><td>128</td><td>128</td><td>128</td><td>128</td><td>128</td><td>128</td><td>128</td><td>128</td><td>128</td><td>128</td><td>128</td></tr><tr><td>4</td><td>entrepreneur</td><td>168</td><td>168</td><td>168</td><td>168</td><td>168</td><td>168</td><td>168</td><td>168</td><td>168</td><td>168</td><td>168</td><td>168</td><td>168</td><td>168</td><td>168</td><td>168</td></tr><tr><td>5</td><td>self-employed</td><td>183</td><td>183</td><td>183</td><td>183</td><td>183</td><td>183</td><td>183</td><td>183</td><td>183</td><td>183</td><td>183</td><td>183</td><td>183</td><td>183</td><td>183</td><td>183</td></tr><tr><td>6</td><td>retired</td><td>230</td><td>230</td><td>230</td><td>230</td><td>230</td><td>230</td><td>230</td><td>230</td><td>230</td><td>230</td><td>230</td><td>230</td><td>230</td><td>230</td><td>230</td><td>230</td></tr><tr><td>7</td><td>services</td><td>417</td><td>417</td><td>417</td><td>417</td><td>417</td><td>417</td><td>417</td><td>417</td><td>417</td><td>417</td><td>417</td><td>417</td><td>417</td><td>417</td><td>417</td><td>417</td></tr><tr><td>8</td><td>admin.</td><td>478</td><td>478</td><td>478</td><td>478</td><td>478</td><td>478</td><td>478</td><td>478</td><td>478</td><td>478</td><td>478</td><td>478</td><td>478</td><td>478</td><td>478</td><td>478</td></tr><tr><td>9</td><td>technician</td><td>768</td><td>768</td><td>768</td><td>768</td><td>768</td><td>768</td><td>768</td><td>768</td><td>768</td><td>768</td><td>768</td><td>768</td><td>768</td><td>768</td><td>768</td><td>768</td></tr></tbody></table>"
      ]
     },
     "execution_count": 8,
     "metadata": {},
     "output_type": "execute_result"
    }
   ],
   "source": [
    "data.GroupBy(\"job\").Count().Sort(\"age\")"
   ]
  },
  {
   "cell_type": "code",
   "execution_count": 10,
   "metadata": {},
   "outputs": [
    {
     "data": {
      "text/html": [
       "<table><thead><th><i>index</i></th><th>marital</th><th>age</th><th>job</th><th>education</th><th>default</th><th>balance</th><th>housing</th><th>loan</th><th>contact</th><th>day</th><th>month</th><th>duration</th><th>campaign</th><th>pdays</th><th>previous</th><th>poutcome</th><th>y</th></thead><tbody><tr><td>0</td><td>married</td><td>2797</td><td>2797</td><td>2797</td><td>2797</td><td>2797</td><td>2797</td><td>2797</td><td>2797</td><td>2797</td><td>2797</td><td>2797</td><td>2797</td><td>2797</td><td>2797</td><td>2797</td><td>2797</td></tr><tr><td>1</td><td>single</td><td>1196</td><td>1196</td><td>1196</td><td>1196</td><td>1196</td><td>1196</td><td>1196</td><td>1196</td><td>1196</td><td>1196</td><td>1196</td><td>1196</td><td>1196</td><td>1196</td><td>1196</td><td>1196</td></tr><tr><td>2</td><td>divorced</td><td>528</td><td>528</td><td>528</td><td>528</td><td>528</td><td>528</td><td>528</td><td>528</td><td>528</td><td>528</td><td>528</td><td>528</td><td>528</td><td>528</td><td>528</td><td>528</td></tr></tbody></table>"
      ]
     },
     "execution_count": 10,
     "metadata": {},
     "output_type": "execute_result"
    }
   ],
   "source": [
    "data.GroupBy(\"marital\").Count()"
   ]
  },
  {
   "cell_type": "code",
   "execution_count": 11,
   "metadata": {},
   "outputs": [
    {
     "data": {
      "text/html": [
       "<table><thead><th><i>index</i></th><th>Values</th><th>Counts</th></thead><tbody><tr><td>0</td><td>no</td><td>4445</td></tr><tr><td>1</td><td>yes</td><td>76</td></tr></tbody></table>"
      ]
     },
     "execution_count": 11,
     "metadata": {},
     "output_type": "execute_result"
    }
   ],
   "source": [
    "data[\"default\"].ValueCounts()"
   ]
  },
  {
   "cell_type": "code",
   "execution_count": 12,
   "metadata": {},
   "outputs": [],
   "source": [
    "var context = new MLContext();"
   ]
  },
  {
   "cell_type": "code",
   "execution_count": 13,
   "metadata": {},
   "outputs": [],
   "source": [
    "var dataView = (IDataView)data;"
   ]
  },
  {
   "cell_type": "code",
   "execution_count": 15,
   "metadata": {},
   "outputs": [
    {
     "ename": "Unhandled Exception",
     "evalue": "(1,50): error CS1503: Argument 1: cannot convert from 'Microsoft.ML.IDataView' to 'Microsoft.ML.IDataView'",
     "output_type": "error",
     "traceback": []
    },
    {
     "name": "stderr",
     "output_type": "stream",
     "text": [
      "(1,50): error CS1503: Argument 1: cannot convert from 'Microsoft.ML.IDataView' to 'Microsoft.ML.IDataView'"
     ]
    }
   ],
   "source": [
    "var testTrainSplit = context.Data.TrainTestSplit(dataView, testFraction: 0.2);"
   ]
  }
 ],
 "metadata": {
  "kernelspec": {
   "display_name": ".NET (C#)",
   "language": "C#",
   "name": ".net-csharp"
  },
  "language_info": {
   "file_extension": ".cs",
   "mimetype": "text/x-csharp",
   "name": "C#",
   "pygments_lexer": "csharp",
   "version": "7.3"
  }
 },
 "nbformat": 4,
 "nbformat_minor": 2
}
