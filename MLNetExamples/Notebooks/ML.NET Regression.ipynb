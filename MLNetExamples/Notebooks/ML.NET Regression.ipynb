{
 "cells": [
  {
   "cell_type": "code",
   "execution_count": null,
   "metadata": {},
   "outputs": [
    {
     "data": {
      "text/html": [
       "Attempting to install package Microsoft.ML, version 1.4.0-preview.....................done!"
      ]
     },
     "metadata": {},
     "output_type": "display_data"
    },
    {
     "data": {
      "text/html": [
       "Successfully added reference to package Microsoft.ML, version 1.4.0-preview"
      ]
     },
     "metadata": {},
     "output_type": "display_data"
    }
   ],
   "source": [
    "#r \"nuget:Microsoft.ML,1.4.0-preview\""
   ]
  },
  {
   "cell_type": "code",
   "execution_count": 20,
   "metadata": {},
   "outputs": [],
   "source": [
    "using Microsoft.ML;\n",
    "using Microsoft.ML.Data;"
   ]
  },
  {
   "cell_type": "code",
   "execution_count": 21,
   "metadata": {},
   "outputs": [],
   "source": [
    "public class HousingData\n",
    "{\n",
    "    [LoadColumn(0)]\n",
    "    public float Longitude { get; set; }\n",
    "\n",
    "    [LoadColumn(1)]\n",
    "    public float Latitude { get; set; }\n",
    "\n",
    "    [LoadColumn(2)]\n",
    "    public float HousingMedianAge { get; set; }\n",
    "\n",
    "    [LoadColumn(3)]\n",
    "    public float TotalRooms { get; set; }\n",
    "\n",
    "    [LoadColumn(4)]\n",
    "    public float TotalBedrooms { get; set; }\n",
    "\n",
    "    [LoadColumn(5)]\n",
    "    public float Population { get; set; }\n",
    "\n",
    "    [LoadColumn(6)]\n",
    "    public float Households { get; set; }\n",
    "\n",
    "    [LoadColumn(7)]\n",
    "    public float MedianIncome { get; set; }\n",
    "\n",
    "    [LoadColumn(8), ColumnName(\"Label\")]\n",
    "    public float MedianHouseValue { get; set; }\n",
    "\n",
    "    [LoadColumn(9)]\n",
    "    public string OceanProximity { get; set; }\n"
   ]
  },
  {
   "cell_type": "code",
   "execution_count": 32,
   "metadata": {},
   "outputs": [
    {
     "ename": "Unhandled Exception",
     "evalue": "(3,25): error CS1501: No overload for method 'LoadFromTextFile' takes 7 arguments",
     "output_type": "error",
     "traceback": []
    },
    {
     "name": "stderr",
     "output_type": "stream",
     "text": [
      "(3,25): error CS1501: No overload for method 'LoadFromTextFile' takes 7 arguments"
     ]
    }
   ],
   "source": [
    "var context = new MLContext();\n",
    "\n",
    "var data = context.Data.LoadFromTextFile<HousingData>(context.Data, \"./housing.csv\", ',', true, false, false, false);"
   ]
  }
 ],
 "metadata": {
  "kernelspec": {
   "display_name": ".NET (C#)",
   "language": "C#",
   "name": ".net-csharp"
  },
  "language_info": {
   "file_extension": ".cs",
   "mimetype": "text/x-csharp",
   "name": "C#",
   "pygments_lexer": "csharp",
   "version": "7.3"
  }
 },
 "nbformat": 4,
 "nbformat_minor": 2
}
